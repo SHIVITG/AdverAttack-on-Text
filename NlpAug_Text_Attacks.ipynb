{
 "cells": [
  {
   "cell_type": "code",
   "execution_count": 42,
   "metadata": {},
   "outputs": [],
   "source": [
    "##------------------------------------------------------------------------------------##\n",
    "#-----------------------Installing Required Libraries----------------------------------#\n",
    "##------------------------------------------------------------------------------------##\n",
    "import nlpaug.augmenter.char as nac\n",
    "import nlpaug.augmenter.word as naw\n",
    "import nlpaug.augmenter.sentence as nas\n",
    "import nlpaug.flow as nafc\n",
    "from nlpaug.util import Action\n",
    "import nltk \n",
    "#nltk.download('all')"
   ]
  },
  {
   "cell_type": "code",
   "execution_count": 54,
   "metadata": {},
   "outputs": [],
   "source": [
    "text = \"Product arrived labeled as Jumbo Salted Peanuts...the peanuts were actually small sized unsalted. Not sure if this was an error or if the vendor intended to represent the product as 'Jumbo'.\""
   ]
  },
  {
   "cell_type": "code",
   "execution_count": 55,
   "metadata": {},
   "outputs": [],
   "source": [
    "text1 = \"I have bought several of the Vitality canned dog food products and have found them all to be of good quality. The product looks more like a stew than a processed meat and it smells better.\""
   ]
  },
  {
   "cell_type": "markdown",
   "metadata": {},
   "source": [
    "### CHARACTER LEVEL ATTACK"
   ]
  },
  {
   "cell_type": "code",
   "execution_count": 52,
   "metadata": {},
   "outputs": [],
   "source": [
    "def char_level(text,n):\n",
    "    #Augmenting data in character level.\n",
    "    aug = nac.OcrAug()\n",
    "    attacked_texts = aug.augment(text, n=n)\n",
    "    # gives n forms of augmentation (n is the number of augmented forms a user wants)\n",
    "    print(\"Attacked Text:\")\n",
    "    print(attacked_texts)"
   ]
  },
  {
   "cell_type": "code",
   "execution_count": 53,
   "metadata": {},
   "outputs": [],
   "source": [
    "def keyboard_attack(text):\n",
    "    #Substitute character by keyboard distance\n",
    "    aug = nac.KeyboardAug()\n",
    "    attacked_text = aug.augment(text)\n",
    "    print(\"Attacked Text:\")\n",
    "    print(attacked_text)"
   ]
  },
  {
   "cell_type": "code",
   "execution_count": 61,
   "metadata": {},
   "outputs": [],
   "source": [
    "def random_char_insert(text):\n",
    "    # Insert character randomly\n",
    "    aug = nac.RandomCharAug(action=\"insert\")\n",
    "    attacked_text = aug.augment(text)\n",
    "    print(\"Attacked Text:\")\n",
    "    print(attacked_text)"
   ]
  },
  {
   "cell_type": "code",
   "execution_count": 63,
   "metadata": {},
   "outputs": [],
   "source": [
    "def random_char_subsi(text):\n",
    "    # Substitute character randomly\n",
    "    aug = nac.RandomCharAug(action=\"substitute\")\n",
    "    attacked_text = aug.augment(text)\n",
    "    print(\"Attacked Text:\")\n",
    "    print(attacked_text)"
   ]
  },
  {
   "cell_type": "code",
   "execution_count": 65,
   "metadata": {},
   "outputs": [],
   "source": [
    "def random_char_swap(text):\n",
    "    #Swap character randomly\n",
    "    aug = nac.RandomCharAug(action=\"swap\")\n",
    "    attacked_text = aug.augment(text)\n",
    "    print(\"Attacked Text:\")\n",
    "    print(attacked_text)"
   ]
  },
  {
   "cell_type": "code",
   "execution_count": 67,
   "metadata": {},
   "outputs": [],
   "source": [
    "def random_char_del(text):\n",
    "    #Delete character randomly\n",
    "    aug = nac.RandomCharAug(action=\"delete\")\n",
    "    attacked_text = aug.augment(text)\n",
    "    print(\"Attacked Text:\")\n",
    "    print(attacked_text)"
   ]
  },
  {
   "cell_type": "code",
   "execution_count": 56,
   "metadata": {},
   "outputs": [
    {
     "name": "stdout",
     "output_type": "stream",
     "text": [
      "Attacked Text:\n",
      "I have bought several of the Vitality canned do9 food products and have foond them all to 6e of good qoa1ity. The pkuduct looks m0re like a stew than a pruce8sed meat and it smells 6ettek.\n"
     ]
    }
   ],
   "source": [
    "char_level(text1,1)"
   ]
  },
  {
   "cell_type": "code",
   "execution_count": 58,
   "metadata": {},
   "outputs": [
    {
     "name": "stdout",
     "output_type": "stream",
     "text": [
      "Attacked Text:\n",
      "I hav# bought several oD the Vitality canned dPg food products and have found them all tK be of good quZliyy. The product lookX mor4 like a s5ew than a processed meat and ut smells NettFr.\n"
     ]
    }
   ],
   "source": [
    "keyboard_attack(text1)"
   ]
  },
  {
   "cell_type": "code",
   "execution_count": 62,
   "metadata": {},
   "outputs": [
    {
     "name": "stdout",
     "output_type": "stream",
     "text": [
      "Attacked Text:\n",
      "I have bought severDaOl of the VmitalitIy canned dog Yfood p)roduct+s and have fEound t&hem all to be of mgood quality. The pTroduZct looks more like a st%ew thaQn a processed meat and it smells better.\n"
     ]
    }
   ],
   "source": [
    "random_char_insert(text1)"
   ]
  },
  {
   "cell_type": "code",
   "execution_count": 64,
   "metadata": {},
   "outputs": [
    {
     "name": "stdout",
     "output_type": "stream",
     "text": [
      "Attacked Text:\n",
      "I have bought seveQaH of the Vitality oanned dog food products and have found th5m all to be of go5d qu0litv. The product Kooks morC like a Otew than a processed mGat and it smells better.\n"
     ]
    }
   ],
   "source": [
    "random_char_subsi(text1)"
   ]
  },
  {
   "cell_type": "code",
   "execution_count": 66,
   "metadata": {},
   "outputs": [
    {
     "name": "stdout",
     "output_type": "stream",
     "text": [
      "Attacked Text:\n",
      "I ahve bougth esverla of the Vitality canend dog fodo rpdoucts and have found them all to be of ogod quality. The product oloks omre like a stew than a processed meat and it smells better.\n"
     ]
    }
   ],
   "source": [
    "random_char_swap(text1)"
   ]
  },
  {
   "cell_type": "code",
   "execution_count": 68,
   "metadata": {},
   "outputs": [
    {
     "name": "stdout",
     "output_type": "stream",
     "text": [
      "Attacked Text:\n",
      "I ave bough sevel of the Vitaiy canned dog foo products and have found the all to be of good quality. The produ looks more like a stew than a pocssed eat and it smells bete.\n"
     ]
    }
   ],
   "source": [
    "random_char_del(text1)"
   ]
  },
  {
   "cell_type": "markdown",
   "metadata": {},
   "source": [
    "### WORD LEVEL ATTACK"
   ]
  },
  {
   "cell_type": "code",
   "execution_count": 69,
   "metadata": {},
   "outputs": [],
   "source": [
    "def spell_attack(text,n):\n",
    "    #Spelling Augmenter\n",
    "    #Substitute word by spelling mistake words dictionary\n",
    "    aug = naw.SpellingAug('models/spelling_en.txt')\n",
    "    attacked_texts = aug.augment(text, n=n)\n",
    "    print(\"Attacked Texts:\")\n",
    "    print(attacked_texts)"
   ]
  },
  {
   "cell_type": "code",
   "execution_count": 72,
   "metadata": {},
   "outputs": [],
   "source": [
    "def synonym_wordnet(text):\n",
    "    #Synonym Augmenter\n",
    "    #Substitute word by WordNet's synonym\n",
    "    aug = naw.SynonymAug(aug_src='wordnet')\n",
    "    attacked_text = aug.augment(text)\n",
    "    print(\"Attacked Text:\")\n",
    "    print(attacked_text)"
   ]
  },
  {
   "cell_type": "code",
   "execution_count": 74,
   "metadata": {},
   "outputs": [],
   "source": [
    "def antonym_subsi(text):\n",
    "    #Antonym Augmenter\n",
    "    #Substitute word by antonym\n",
    "    aug = naw.AntonymAug()\n",
    "    attacked_text = aug.augment(text)\n",
    "    print(\"Attacked Text:\")\n",
    "    print(attacked_text)"
   ]
  },
  {
   "cell_type": "code",
   "execution_count": 76,
   "metadata": {},
   "outputs": [],
   "source": [
    "def random_word_swap(text):\n",
    "    # Random Word Augmenter\n",
    "    # Swap word randomly\n",
    "    aug = naw.RandomWordAug(action=\"swap\")\n",
    "    attacked_text = aug.augment(text)\n",
    "    print(\"Attacked Text:\")\n",
    "    print(attacked_text)"
   ]
  },
  {
   "cell_type": "code",
   "execution_count": 78,
   "metadata": {},
   "outputs": [],
   "source": [
    "def random_word_del(text):\n",
    "    #Delete word randomly\n",
    "    aug = naw.RandomWordAug()\n",
    "    attacked_text = aug.augment(text)\n",
    "    print(\"Attacked Text:\")\n",
    "    print(attacked_text)"
   ]
  },
  {
   "cell_type": "code",
   "execution_count": 80,
   "metadata": {},
   "outputs": [],
   "source": [
    "def split_word(text):\n",
    "    #Split Augmenter\n",
    "    #Split word to two tokens randomly\n",
    "    aug = naw.SplitAug()\n",
    "    attacked_text = aug.augment(text)\n",
    "    print(\"Attacked Text:\")\n",
    "    print(attacked_text)"
   ]
  },
  {
   "cell_type": "code",
   "execution_count": 71,
   "metadata": {},
   "outputs": [
    {
     "name": "stdout",
     "output_type": "stream",
     "text": [
      "Attacked Texts:\n",
      "I have bought several o the Vitality canned dog food products and havy found hem also trto de of good quality. VThe proudct looks more like a stew than a processed meat amd it smeels better.\n"
     ]
    }
   ],
   "source": [
    "spell_attack(text1,1)"
   ]
  },
  {
   "cell_type": "code",
   "execution_count": 73,
   "metadata": {},
   "outputs": [
    {
     "name": "stdout",
     "output_type": "stream",
     "text": [
      "Attacked Text:\n",
      "I hold bought respective of the Vitality canned dog food products and sustain found them all to be of effective quality. The product look to a greater extent like a fret than a processed meat and it smells better.\n"
     ]
    }
   ],
   "source": [
    "synonym_wordnet(text1)"
   ]
  },
  {
   "cell_type": "code",
   "execution_count": 75,
   "metadata": {},
   "outputs": [
    {
     "name": "stdout",
     "output_type": "stream",
     "text": [
      "Attacked Text:\n",
      "I lack sell several of the Vitality canned dog food products and have abolish them all to be of good quality. The product looks more like a stew than a processed meat and it smells better.\n"
     ]
    }
   ],
   "source": [
    "antonym_subsi(text1)"
   ]
  },
  {
   "cell_type": "code",
   "execution_count": 77,
   "metadata": {},
   "outputs": [
    {
     "name": "stdout",
     "output_type": "stream",
     "text": [
      "Attacked Text:\n",
      "HAVE i bought of several the Vitality dog canned food products and have found them to all be of good quality. The product looks like more stew a than a meat processed meat smells it better.\n"
     ]
    }
   ],
   "source": [
    "random_word_swap(text1)"
   ]
  },
  {
   "cell_type": "code",
   "execution_count": 82,
   "metadata": {},
   "outputs": [
    {
     "name": "stdout",
     "output_type": "stream",
     "text": [
      "Attacked Text:\n",
      "Product arrived l abeled as Jumbo Salted Pean uts...the peanuts w ere a ctually s mall siz ed un salted. Not sure if this was an error or if the vendor intended to represent the prod uct as 'Jumb o'.\n"
     ]
    }
   ],
   "source": [
    "split_word(text)"
   ]
  },
  {
   "cell_type": "code",
   "execution_count": 79,
   "metadata": {},
   "outputs": [
    {
     "name": "stdout",
     "output_type": "stream",
     "text": [
      "Attacked Text:\n",
      "I have of the canned dog food and found to be of good quality. The product looks like a stew than a processed and it better.\n"
     ]
    }
   ],
   "source": [
    "random_word_del(text1)"
   ]
  },
  {
   "cell_type": "code",
   "execution_count": null,
   "metadata": {},
   "outputs": [],
   "source": []
  }
 ],
 "metadata": {
  "kernelspec": {
   "display_name": "Python 3",
   "language": "python",
   "name": "python3"
  },
  "language_info": {
   "codemirror_mode": {
    "name": "ipython",
    "version": 3
   },
   "file_extension": ".py",
   "mimetype": "text/x-python",
   "name": "python",
   "nbconvert_exporter": "python",
   "pygments_lexer": "ipython3",
   "version": "3.7.4"
  }
 },
 "nbformat": 4,
 "nbformat_minor": 2
}
